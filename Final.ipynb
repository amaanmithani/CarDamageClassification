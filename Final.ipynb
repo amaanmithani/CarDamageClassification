{
 "cells": [
  {
   "cell_type": "markdown",
   "metadata": {
    "id": "EzUHcPgmgy19"
   },
   "source": [
    "\n",
    "## Importing Saved weights and files"
   ]
  },
  {
   "cell_type": "code",
   "execution_count": 2,
   "metadata": {
    "colab": {
     "base_uri": "https://localhost:8080/"
    },
    "id": "eUsPrAwrgyQt",
    "outputId": "734256dd-2bd2-4fc9-b930-beb4ed1effa8"
   },
   "outputs": [
    {
     "name": "stdout",
     "output_type": "stream",
     "text": [
      "--2020-12-08 05:11:19--  https://doc-0s-c4-docs.googleusercontent.com/docs/securesc/q2bh4litpt8gnnf5551ajijntavlltei/5t8toahv2qp7ej4k82bes2u0am3ngs73/1607404200000/13975366803291835212/13975366803291835212/1hG98-xdrMNoxFDwvLLP6UX-ytFpWQTF3?e=download&authuser=4&nonce=ehinnftsse4q6&user=13975366803291835212&hash=k51d9cq7rrcuqi1r4pnqfu5sabggjmfn\n",
      "Resolving doc-0s-c4-docs.googleusercontent.com (doc-0s-c4-docs.googleusercontent.com)... 172.217.12.225, 2607:f8b0:4004:807::2001\n",
      "Connecting to doc-0s-c4-docs.googleusercontent.com (doc-0s-c4-docs.googleusercontent.com)|172.217.12.225|:443... connected.\n",
      "HTTP request sent, awaiting response... 200 OK\n",
      "Length: unspecified [application/x-zip-compressed]\n",
      "Saving to: ‘files.zip’\n",
      "\n",
      "files.zip               [ <=>                ]   1.88G  64.9MB/s    in 31s     \n",
      "\n",
      "2020-12-08 05:11:51 (61.3 MB/s) - ‘files.zip’ saved [2021847964]\n",
      "\n"
     ]
    }
   ],
   "source": [
    "!wget --header 'Host: doc-0s-c4-docs.googleusercontent.com' --user-agent 'Mozilla/5.0 (Windows NT 10.0; Win64; x64; rv:83.0) Gecko/20100101 Firefox/83.0' --header 'Accept: text/html,application/xhtml+xml,application/xml;q=0.9,image/webp,*/*;q=0.8' --header 'Accept-Language: en-US,en;q=0.5' --header 'Cookie: AUTH_hk31mtbc0rnrqkfur2kl4nou3khj2ng2_nonce=ehinnftsse4q6' --header 'Upgrade-Insecure-Requests: 1' 'https://doc-0s-c4-docs.googleusercontent.com/docs/securesc/q2bh4litpt8gnnf5551ajijntavlltei/5t8toahv2qp7ej4k82bes2u0am3ngs73/1607404200000/13975366803291835212/13975366803291835212/1hG98-xdrMNoxFDwvLLP6UX-ytFpWQTF3?e=download&authuser=4&nonce=ehinnftsse4q6&user=13975366803291835212&hash=k51d9cq7rrcuqi1r4pnqfu5sabggjmfn' --output-document 'files.zip'"
   ]
  },
  {
   "cell_type": "code",
   "execution_count": 3,
   "metadata": {
    "colab": {
     "base_uri": "https://localhost:8080/"
    },
    "id": "cgDYvL2Diw81",
    "outputId": "9656f50c-f8f0-46df-ab0b-36b0eb656811"
   },
   "outputs": [
    {
     "name": "stdout",
     "output_type": "stream",
     "text": [
      "Archive:  files.zip\n",
      "  inflating: custom.data             \n",
      "  inflating: custom.names            \n",
      "  inflating: densenet_stage1_all-0.959.hdf5  \n",
      "  inflating: densenet_stage2_all-0.804.hdf5  \n",
      "  inflating: densenet_stage3_all-0.696.hdf5  \n",
      "  inflating: templates/app.html      \n",
      "  inflating: templates/old.html      \n",
      "  inflating: test.txt                \n",
      "  inflating: train.txt               \n",
      "  inflating: yolov3_custom.cfg       \n",
      "  inflating: yolov3_custom_4000.weights  \n"
     ]
    }
   ],
   "source": [
    "!unzip files"
   ]
  },
  {
   "cell_type": "markdown",
   "metadata": {
    "id": "5J4YwSWfT7ZC"
   },
   "source": [
    "## Importing libraries"
   ]
  },
  {
   "cell_type": "code",
   "execution_count": 3,
   "metadata": {},
   "outputs": [
    {
     "name": "stdout",
     "output_type": "stream",
     "text": [
      "Collecting opencv-python\n",
      "  Downloading opencv_python-4.6.0.66-cp36-abi3-win_amd64.whl (35.6 MB)\n",
      "Requirement already satisfied: numpy>=1.17.3 in c:\\users\\amaan\\anaconda3\\lib\\site-packages (from opencv-python) (1.20.3)\n",
      "Installing collected packages: opencv-python\n",
      "Successfully installed opencv-python-4.6.0.66\n"
     ]
    }
   ],
   "source": [
    "! pip install opencv-python"
   ]
  },
  {
   "cell_type": "code",
   "execution_count": 4,
   "metadata": {
    "colab": {
     "base_uri": "https://localhost:8080/"
    },
    "id": "vlJsiDoQT7ZD",
    "outputId": "59cf1858-3e74-429b-a226-85c88c9c9a51"
   },
   "outputs": [
    {
     "name": "stdout",
     "output_type": "stream",
     "text": [
      "Collecting flask-ngrok\n",
      "  Downloading flask_ngrok-0.0.25-py3-none-any.whl (3.1 kB)\n",
      "Requirement already satisfied: Flask>=0.8 in c:\\users\\amaan\\anaconda3\\lib\\site-packages (from flask-ngrok) (1.1.2)\n",
      "Requirement already satisfied: requests in c:\\users\\amaan\\anaconda3\\lib\\site-packages (from flask-ngrok) (2.26.0)\n",
      "Requirement already satisfied: itsdangerous>=0.24 in c:\\users\\amaan\\anaconda3\\lib\\site-packages (from Flask>=0.8->flask-ngrok) (2.0.1)\n",
      "Requirement already satisfied: click>=5.1 in c:\\users\\amaan\\anaconda3\\lib\\site-packages (from Flask>=0.8->flask-ngrok) (8.0.3)\n",
      "Requirement already satisfied: Werkzeug>=0.15 in c:\\users\\amaan\\anaconda3\\lib\\site-packages (from Flask>=0.8->flask-ngrok) (2.0.2)\n",
      "Requirement already satisfied: Jinja2>=2.10.1 in c:\\users\\amaan\\anaconda3\\lib\\site-packages (from Flask>=0.8->flask-ngrok) (2.11.3)\n",
      "Requirement already satisfied: colorama in c:\\users\\amaan\\anaconda3\\lib\\site-packages (from click>=5.1->Flask>=0.8->flask-ngrok) (0.4.4)\n",
      "Requirement already satisfied: MarkupSafe>=0.23 in c:\\users\\amaan\\anaconda3\\lib\\site-packages (from Jinja2>=2.10.1->Flask>=0.8->flask-ngrok) (1.1.1)\n",
      "Requirement already satisfied: idna<4,>=2.5 in c:\\users\\amaan\\anaconda3\\lib\\site-packages (from requests->flask-ngrok) (3.2)\n",
      "Requirement already satisfied: urllib3<1.27,>=1.21.1 in c:\\users\\amaan\\anaconda3\\lib\\site-packages (from requests->flask-ngrok) (1.26.7)\n",
      "Requirement already satisfied: charset-normalizer~=2.0.0 in c:\\users\\amaan\\anaconda3\\lib\\site-packages (from requests->flask-ngrok) (2.0.4)\n",
      "Requirement already satisfied: certifi>=2017.4.17 in c:\\users\\amaan\\anaconda3\\lib\\site-packages (from requests->flask-ngrok) (2021.10.8)\n",
      "Installing collected packages: flask-ngrok\n",
      "Successfully installed flask-ngrok-0.0.25\n"
     ]
    }
   ],
   "source": [
    "import pandas as pd\n",
    "import matplotlib.pyplot as plt\n",
    "import seaborn as sns\n",
    "import numpy as np\n",
    "import os\n",
    "import re\n",
    "import random\n",
    "from tqdm import tqdm\n",
    "import tensorflow as tf\n",
    "import cv2\n",
    "from tensorflow.keras.preprocessing.image import ImageDataGenerator\n",
    "from tensorflow.keras.preprocessing.image import load_img,img_to_array\n",
    "from tensorflow.keras.models import Sequential, Model, load_model\n",
    "!pip install flask-ngrok\n",
    "import io\n",
    "from base64 import encodebytes\n",
    "from PIL import Image\n",
    "from flask import jsonify\n",
    "import json"
   ]
  },
  {
   "cell_type": "markdown",
   "metadata": {
    "id": "g7Xa6cAyT7ZE"
   },
   "source": [
    "## Importing Saved models"
   ]
  },
  {
   "cell_type": "code",
   "execution_count": 5,
   "metadata": {
    "id": "mIMemWCOT7ZE"
   },
   "outputs": [],
   "source": [
    "Stage_1_model = load_model('models/ft_model_location.h5')\n",
    "Stage_2_model = load_model('models/ft_model_second_gate.h5')\n",
    "Stage_3_model = load_model('models/ft_model_severity.h5')"
   ]
  },
  {
   "cell_type": "markdown",
   "metadata": {
    "id": "reunA7rXhXz5"
   },
   "source": [
    "## Importing Darknet git"
   ]
  },
  {
   "cell_type": "code",
   "execution_count": 6,
   "metadata": {
    "colab": {
     "base_uri": "https://localhost:8080/"
    },
    "id": "h7SwCpTrjZqs",
    "outputId": "ef98be5b-16f9-43f3-a908-d12634b72995"
   },
   "outputs": [
    {
     "name": "stdout",
     "output_type": "stream",
     "text": [
      "\n",
      "ERROR: GPU is not selected as hardware accelerator!\n"
     ]
    },
    {
     "name": "stderr",
     "output_type": "stream",
     "text": [
      "The system cannot find the path specified.\n"
     ]
    }
   ],
   "source": [
    "!/usr/local/cuda/bin/nvcc --version\n",
    "# Check if GPU is selected as hardware accelerator\n",
    "import tensorflow as tf\n",
    "device_name = tf.test.gpu_device_name()\n",
    "if not '/device:GPU:0' in device_name:\n",
    "    print('\\nERROR: GPU is not selected as hardware accelerator!')\n",
    "else:\n",
    "    print(device_name)"
   ]
  },
  {
   "cell_type": "code",
   "execution_count": 7,
   "metadata": {
    "colab": {
     "base_uri": "https://localhost:8080/"
    },
    "id": "5zFNkzf_hXLu",
    "outputId": "de9dae7d-94c8-4a77-9463-29529de23dc4"
   },
   "outputs": [
    {
     "name": "stdout",
     "output_type": "stream",
     "text": [
      "C:\\Users\\amaan\\Desktop\\Car-Damage-Classification-main\\darknet\n"
     ]
    },
    {
     "name": "stderr",
     "output_type": "stream",
     "text": [
      "Cloning into 'darknet'...\n",
      "'ls' is not recognized as an internal or external command,\n",
      "operable program or batch file.\n",
      "sed: -e expression #1, char 1: unknown command: `''\n",
      "sed: -e expression #1, char 1: unknown command: `''\n"
     ]
    },
    {
     "name": "stdout",
     "output_type": "stream",
     "text": [
      "mkdir -p ./obj/\n",
      "[WinError 2] The system cannot find the file specified: '/content/'\n",
      "C:\\Users\\amaan\\Desktop\\Car-Damage-Classification-main\\darknet\n"
     ]
    },
    {
     "name": "stderr",
     "output_type": "stream",
     "text": [
      "process_begin: CreateProcess(NULL, uname, ...) failed.\n",
      "make: Makefile:25: pipe: No error\n",
      "The syntax of the command is incorrect.\n",
      "make: *** [Makefile:188: obj/] Error 1\n"
     ]
    }
   ],
   "source": [
    "!git clone https://github.com/AlexeyAB/darknet\n",
    "%cd darknet\n",
    "!ls\n",
    "!sed -i 's/OPENCV=0/OPENCV=1/g' Makefile\n",
    "!sed -i 's/GPU=0/GPU=1/g' Makefile\n",
    "!make\n",
    "%cd /content/"
   ]
  },
  {
   "cell_type": "markdown",
   "metadata": {
    "id": "YiN4W_nDT7ZF"
   },
   "source": [
    "## Generating report for a given Image"
   ]
  },
  {
   "cell_type": "code",
   "execution_count": 9,
   "metadata": {
    "id": "brMYFKFgT7ZF"
   },
   "outputs": [],
   "source": [
    "#Creating a single function which predicts wether Car is damaged or not and localizing the damage, severity of damage for a single img\n",
    "def report(img_path):\n",
    "    report_pred = []\n",
    "    #Creating Train and test txt files:\n",
    "    test_file = open('test.txt','w')\n",
    "    test_file.write(img_path+'\\n')\n",
    "    test_file.close()\n",
    "    \n",
    "    img = load_img(img_path,target_size = (256,256))\n",
    "    #Converting into array\n",
    "    img_arr = img_to_array(img)\n",
    "    img_arr = img_arr.reshape((1,) + img_arr.shape)\n",
    "    \n",
    "    #Checking if Damaged or not\n",
    "    s1_pred = Stage_1_model.predict(img_arr)\n",
    "    if s1_pred <=0.5:\n",
    "        report_pred.append('Damaged')\n",
    "    else:\n",
    "        report_pred.append('Not Damaged')\n",
    "        return report_pred\n",
    "    #Checking for Damage Localization\n",
    "    s2_pred = Stage_2_model.predict(img_arr)\n",
    "    n = np.argmax(s2_pred)\n",
    "    if n == 0:\n",
    "        report_pred.append('Front')\n",
    "    elif n ==1:\n",
    "        report_pred.append('Rear')\n",
    "    else:\n",
    "        report_pred.append('Side')\n",
    "    \n",
    "    #Checking for Damage Severity\n",
    "    s3_pred = Stage_3_model.predict(img_arr)\n",
    "    c = np.argmax(s3_pred)\n",
    "    if c == 0:\n",
    "        report_pred.append('Minor')\n",
    "    elif c ==1:\n",
    "        report_pred.append('Moderate')\n",
    "    elif c==2:\n",
    "        report_pred.append('Severe')\n",
    "\n",
    "    image_path = img_path\n",
    "        \n",
    "    #Using YOLO to detect the damage type\n",
    "    %cd darknet\n",
    "    temp = !./darknet detector test custom.data yolov3_custom.cfg /models/yolov3_custom_last.weights -dont_show <test.txt> result.txt\n",
    "\n",
    "    predicted = load_img('predictions.jpg')\n",
    "    predicted.save('pred.jpg')\n",
    "    \n",
    "    \n",
    "\n",
    "    return report_pred"
   ]
  },
  {
   "cell_type": "code",
   "execution_count": 10,
   "metadata": {
    "id": "169pHYy7h9jR"
   },
   "outputs": [],
   "source": [
    "def get_response_image(image_path):\n",
    "    pil_img = Image.open(image_path, mode='r') # reads the PIL image\n",
    "    byte_arr = io.BytesIO()\n",
    "    pil_img.save(byte_arr, format='PNG') # convert the PIL image to byte array\n",
    "    encoded_img = encodebytes(byte_arr.getvalue()).decode('ascii') # encode as base64\n",
    "    return encoded_img"
   ]
  },
  {
   "cell_type": "code",
   "execution_count": 11,
   "metadata": {
    "id": "HYg6HL0bB1xM"
   },
   "outputs": [],
   "source": [
    "from flask_ngrok import run_with_ngrok\n",
    "from flask import Flask, render_template\n",
    "from werkzeug.utils import secure_filename\n",
    "from flask import send_file\n",
    "from flask import Flask, redirect, url_for, request, render_template\n",
    "app = Flask(__name__)\n",
    "   #starts ngrok when the app is run\n",
    "\n",
    "@app.route(\"/\", methods=[\"GET\", \"POST\"])\n",
    "def home():\n",
    "    return render_template('app.html')\n",
    "\n",
    "@app.route('/predict', methods=['GET', 'POST'])\n",
    "def upload():\n",
    "\tif request.method == 'POST':\n",
    "\t\tf = request.files['file']\n",
    "\t\tfilepath = os.path.join(f.filename)\n",
    "\t\tf.save(filepath)\n",
    "\tpreds = report(f.filename)\n",
    "\tencoded_img = get_response_image('pred.jpg')\n",
    "\tif preds[0] == 'Damaged':\n",
    "\t\tjsonObject = {\"msg\":\"The vehicle is damaged on the \"+preds[1]+\" suffering \"+preds[2]+\" damages. Below is the type of damage detected.\",\"encodedImg\":'<img src=\"data:image/png;base64, '+encoded_img+' alt=\"Red dot\" style=\"width:400px;height:400px;\" />'}\n",
    "\t\treturn json.dumps(jsonObject)\n",
    "\telse:\n",
    "\t\tjsonObject = {\"msg\":\"Are you sure the vehicle is damaged?. Please check once.\"}\n",
    "\t\treturn json.dumps(jsonObject)"
   ]
  },
  {
   "cell_type": "code",
   "execution_count": null,
   "metadata": {
    "colab": {
     "base_uri": "https://localhost:8080/"
    },
    "id": "UqtBSspaB1zu",
    "outputId": "e64a5c83-264e-4097-c16c-8c367df515e1"
   },
   "outputs": [],
   "source": [
    "run_with_ngrok(app)\n",
    "if __name__ == \"__main__\":\n",
    "    app.run()"
   ]
  },
  {
   "cell_type": "code",
   "execution_count": null,
   "metadata": {},
   "outputs": [],
   "source": []
  }
 ],
 "metadata": {
  "accelerator": "GPU",
  "colab": {
   "collapsed_sections": [],
   "name": "Final.ipynb",
   "provenance": [],
   "toc_visible": true
  },
  "kernelspec": {
   "display_name": "Python 3 (ipykernel)",
   "language": "python",
   "name": "python3"
  },
  "language_info": {
   "codemirror_mode": {
    "name": "ipython",
    "version": 3
   },
   "file_extension": ".py",
   "mimetype": "text/x-python",
   "name": "python",
   "nbconvert_exporter": "python",
   "pygments_lexer": "ipython3",
   "version": "3.9.7"
  }
 },
 "nbformat": 4,
 "nbformat_minor": 1
}
